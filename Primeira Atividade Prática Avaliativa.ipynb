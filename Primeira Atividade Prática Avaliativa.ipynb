{
 "cells": [
  {
   "cell_type": "code",
   "execution_count": null,
   "metadata": {},
   "outputs": [],
   "source": []
  },
  {
   "cell_type": "markdown",
   "metadata": {},
   "source": [
    "<img src=\"https://www.dropbox.com/s/l93ecugg1jbtjiw/fga.png?raw=1\" width=\"1200\" height=\"400\">\n",
    "<ul>\n",
    "    <li> <b>Campus UnB Gama</b> </li>\n",
    "    <li> <b>Disciplina: Processamento Digital de Sinais Financeiros</b> </li>\n",
    "    <a href=\"https://www.linkedin.com/in/marcelino-andrade-b164b369/\">\n",
    "    <li> <b>Prof. Marcelino Monteiro de Andrade Dr.</b> </li>\n",
    "</ul>\n",
    "\n",
    "\n",
    "    Primeira (1/3) Atividade Prática Avaliativa\n",
    "    Entrega da Atividade 27/07/2022 \n",
    "    \"A não entrega na data esperada reduz em 50% na nota da avaliação\""
   ]
  },
  {
   "cell_type": "markdown",
   "metadata": {},
   "source": [
    "\n",
    "<div id=\"Tópicos\">\n",
    "    <h2>Questões</h2>\n",
    "</div>\n",
    "\n",
    "\n",
    "<div class=\"alert alert-block alert-info\" style=\"margin-top: 20px\">\n",
    "<ol> \n",
    "<li> Colete os preços e volumes de um conjunto de ativos durante o período de 10 (quinze) anos, pertencentes a no mínimo 5 (cinco) Índices de Segmentos e Setoriais diferentes na B3, e separe os 30 (cinquenta) ativos mais líquidos; </li><p></p>\n",
    "    <li> Construa amostras de treinamento e outras de teste, sendo a primeira com os 3 (três) anos e a segunda com o último ano, e desloque as janelas anualmente (walk forward analysis); </li> <p></p>\n",
    "    <li> Na amostra de treinamento, aplique uma clusterização não supervisionada (K-Means ou DBSCAN) e separe um ativo para cada clusters, com o critério que desejar (sugestão maior índice Sharpe); </li><p></p>\n",
    "    <li> Aplique a Teoria do Portfolio Moderno de Markowitz nos ativos escolhidos no passo anterior, no sentido de alocar um capital de R$100.000,00; </li><p></p>\n",
    "    <li> Verifique o resultado da alocação de capital com Markowitz nos ativos separados, na fase de treinamento, na amostra de teste que representa o último ano da aquisição e compare com o índice Bovespa; </li><p></p>\n",
    "    <li> Descreva suas impressores relativas ao processo, baseado em números, e resultados encontrados. </li>\n",
    "</ol>\n",
    "</div>\n"
   ]
  },
  {
   "cell_type": "markdown",
   "metadata": {},
   "source": [
    "### Questão 1: "
   ]
  },
  {
   "cell_type": "code",
   "execution_count": null,
   "metadata": {},
   "outputs": [],
   "source": [
    "import pandas as pd\n",
    "#import investpy\n",
    "import yfinance as yf\n",
    "from tqdm.notebook import tqdm\n",
    "import matplotlib.pyplot as plt\n",
    "import seaborn as sns\n",
    "import numpy as np\n",
    "import datetime as dt\n",
    "#plt.style.use('dark_background')"
   ]
  },
  {
   "cell_type": "code",
   "execution_count": null,
   "metadata": {},
   "outputs": [],
   "source": [
    "#indexes = ['UTIL', 'ICON', 'SMLL', 'INDX', 'IBOV', 'IFNC']\n",
    "#indexes = ['UTIL', 'IFNC']\n",
    "\n",
    "#data = []\n",
    "#for index in indexes:\n",
    "#    data.append(pd.read_html('http://bvmf.bmfbovespa.com.br/indices/ResumoCarteiraTeorica.aspx?Indice=' + index + '&idioma=pt-br'))\n",
    "#index_df = pd.DataFrame(data)\n",
    "#index_df"
   ]
  },
  {
   "cell_type": "code",
   "execution_count": null,
   "metadata": {},
   "outputs": [],
   "source": [
    "df = pd.read_html('http://bvmf.bmfbovespa.com.br/indices/ResumoCarteiraTeorica.aspx?Indice=UTIL&idioma=pt-br')\n",
    "df[0]['Código'].values"
   ]
  },
  {
   "cell_type": "code",
   "execution_count": null,
   "metadata": {},
   "outputs": [],
   "source": [
    "todayB = dt.date.today()\n",
    "yesterdayB = todayB - dt.timedelta(days=10*365)\n",
    "print(todayB,yesterdayB)"
   ]
  },
  {
   "cell_type": "code",
   "execution_count": null,
   "metadata": {},
   "outputs": [],
   "source": [
    "#data = []\n",
    "#temp_selected = []\n",
    "#final_selected = []\n",
    "#for index in index_df[0]:\n",
    "#    for code in index['Código']:\n",
    "#        if (code in final_selected):\n",
    "#            continue\n",
    "#        temp_df = yf.download(code + '.SA', start=str(yesterdayB), end=str(todayB))\n",
    "#        if not (isinstance((temp_df['Volume'].mean()), float)):\n",
    "#            continue\n",
    "#        if(len(temp_selected) == 0):\n",
    "#            temp_selected.append([code, temp_df])\n",
    "#        elif (len(temp_selected) < 5):\n",
    "#            for pos in range(len(temp_selected)):\n",
    "#                if (temp_selected[pos-1][1]['Volume'].mean() < temp_df['Volume'].mean()):\n",
    "#                    temp_selected.insert(pos-1, [code, temp_df])\n",
    "#                    continue\n",
    "#                temp_selected.append([code, temp_df])\n",
    "#        elif (temp_selected[-1][1]['Volume'].mean() < temp_df['Volume'].mean()):\n",
    "#            temp_selected.pop()\n",
    "#            temp_selected.append([code, temp_df])\n",
    "#    final_selected.extend(temp_selected)\n",
    "#    temp_selected.clear()\n",
    "\n",
    "#pd.set_option('display.max_rows', None)\n",
    "#for x in final_selected:\n",
    "#    print(x[0])\n",
    "\n",
    "#final_df = pd.DataFrame(data, columns=['Ativo', 'Volume'])\n",
    "#final_df['Volume'] = pd.to_numeric(final_df['Volume'], errors='coerce')\n",
    "#final_df = final_df.sort_values(by=['Volume'], ascending=False)\n",
    "#pd.set_option('display.max_rows', None)\n",
    "#final_df"
   ]
  },
  {
   "cell_type": "code",
   "execution_count": null,
   "metadata": {},
   "outputs": [],
   "source": [
    "data = []\n",
    "for x in df[0]['Código'].values:\n",
    "    temp_df = yf.download(x + '.SA', start=str(yesterdayB), end=str(todayB))\n",
    "    data.append([x, temp_df['Volume'].mean()])\n",
    "final_df = pd.DataFrame(data, columns=['Ativo', 'Volume'])\n",
    "final_df['Volume'] = pd.to_numeric(final_df['Volume'], errors='coerce')\n",
    "final_df = final_df.sort_values(by=['Volume'], ascending=False)\n",
    "pd.set_option('display.max_rows', None)\n",
    "final_df"
   ]
  },
  {
   "cell_type": "markdown",
   "metadata": {},
   "source": [
    "### Questão 2: "
   ]
  },
  {
   "cell_type": "code",
   "execution_count": null,
   "metadata": {},
   "outputs": [],
   "source": []
  },
  {
   "cell_type": "markdown",
   "metadata": {},
   "source": [
    "### Questão 3: "
   ]
  },
  {
   "cell_type": "code",
   "execution_count": null,
   "metadata": {},
   "outputs": [],
   "source": []
  },
  {
   "cell_type": "markdown",
   "metadata": {},
   "source": [
    "### Questão 4: "
   ]
  },
  {
   "cell_type": "code",
   "execution_count": null,
   "metadata": {},
   "outputs": [],
   "source": []
  },
  {
   "cell_type": "markdown",
   "metadata": {},
   "source": [
    "### Questão 5: "
   ]
  },
  {
   "cell_type": "code",
   "execution_count": null,
   "metadata": {},
   "outputs": [],
   "source": []
  },
  {
   "cell_type": "markdown",
   "metadata": {},
   "source": [
    "### Questão 6: "
   ]
  },
  {
   "cell_type": "code",
   "execution_count": null,
   "metadata": {},
   "outputs": [],
   "source": []
  }
 ],
 "metadata": {
  "kernelspec": {
   "display_name": "Python 3.10.5 64-bit",
   "language": "python",
   "name": "python3"
  },
  "language_info": {
   "codemirror_mode": {
    "name": "ipython",
    "version": 3
   },
   "file_extension": ".py",
   "mimetype": "text/x-python",
   "name": "python",
   "nbconvert_exporter": "python",
   "pygments_lexer": "ipython3",
   "version": "3.10.5"
  },
  "vscode": {
   "interpreter": {
    "hash": "7807c98a30cbe9d804643b3aa4429f1c7ff6f9d72d18b3ab5b80f9e5b621f050"
   }
  }
 },
 "nbformat": 4,
 "nbformat_minor": 4
}
